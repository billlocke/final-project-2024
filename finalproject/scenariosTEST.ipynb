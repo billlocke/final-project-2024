{
 "cells": [
  {
   "cell_type": "code",
   "execution_count": 1,
   "id": "85065d87-59e3-457b-8a2a-8321a60a56e5",
   "metadata": {
    "tags": []
   },
   "outputs": [],
   "source": [
    "import numpy as np\n",
    "import pandas as pd\n",
    "import unittest\n",
    "#import finalproject\n",
    "from die import Die\n",
    "from game import Game"
   ]
  },
  {
   "cell_type": "code",
   "execution_count": 2,
   "id": "a87c0882-5b5a-4d16-a0dc-2540902c28ff",
   "metadata": {
    "tags": []
   },
   "outputs": [
    {
     "name": "stdout",
     "output_type": "stream",
     "text": [
      "initialized:\n",
      "self.new_weight in change_weight: 5\n",
      "self.faces in change_weight:    weights\n",
      "0      5.0\n",
      "1      1.0\n",
      "weight changed in main:\n",
      "self.faces_df type in create_die: <class 'pandas.core.frame.DataFrame'>\n",
      "self.faces_df in create_die:    weights\n",
      "0      5.0\n",
      "1      1.0\n",
      "n_sides in create_die: 2\n",
      "self.faces_df.weights in create_die: 0    5.0\n",
      "1    1.0\n",
      "Name: weights, dtype: float64\n",
      "my_probs in create_die: [0.8333333333333334, 0.16666666666666666]\n",
      "sum (self.faces_df.weights) in create_die 6.0\n",
      "this is the created die1:\n",
      "    H=1/T=2    Weight\n",
      "0        1  0.833333\n",
      "1        2  0.166667\n",
      "initialized:\n",
      "self.faces_df type in create_die: <class 'pandas.core.frame.DataFrame'>\n",
      "self.faces_df in create_die:    weights\n",
      "0      1.0\n",
      "1      1.0\n",
      "n_sides in create_die: 2\n",
      "self.faces_df.weights in create_die: 0    1.0\n",
      "1    1.0\n",
      "Name: weights, dtype: float64\n",
      "my_probs in create_die: [0.5, 0.5]\n",
      "sum (self.faces_df.weights) in create_die 2.0\n",
      "this is the created die2:\n",
      "    H=1/T=2  Weight\n",
      "0        1     0.5\n",
      "1        2     0.5\n"
     ]
    }
   ],
   "source": [
    "# Scenario 1: A 2-headed Coin\n",
    "\n",
    "# Task 1. Create a fair coin (with faces H and T) \n",
    "# and one unfair coin in which one of the faces has a weight of 5\n",
    "# and the others 1\n",
    "\n",
    "faces = np.arange (2)  # creates array\n",
    "#faces1 = ['H', 'T']  # creates array\n",
    "faces_df1 = Die(faces)\n",
    "print ('initialized:')\n",
    "faces_df1.change_weight (1, 5)\n",
    "print ('weight changed in main:')\n",
    "die1 = faces_df1.create_die (faces_df1)\n",
    "die1.columns = ['H=1/T=2', 'Weight']\n",
    "print ('this is the created die1:\\n', die1)\n",
    "\n",
    "#faces2 = np.arange (2)  # creates array\n",
    "faces_df2 = Die(faces)\n",
    "print ('initialized:')\n",
    "#faces_df2.change_weight (1, 3)\n",
    "die2 = faces_df2.create_die (faces_df2)\n",
    "die2.columns = ['H=1/T=2', 'Weight']\n",
    "print ('this is the created die2:\\n', die2)\n"
   ]
  },
  {
   "cell_type": "code",
   "execution_count": null,
   "id": "abb815e9-d369-4578-a7d3-7a88ee542e27",
   "metadata": {},
   "outputs": [],
   "source": []
  },
  {
   "cell_type": "code",
   "execution_count": null,
   "id": "1093d7cb-1d34-48e5-985b-259867737506",
   "metadata": {},
   "outputs": [],
   "source": []
  }
 ],
 "metadata": {
  "kernelspec": {
   "display_name": "Python 3 (ipykernel)",
   "language": "python",
   "name": "python3"
  },
  "language_info": {
   "codemirror_mode": {
    "name": "ipython",
    "version": 3
   },
   "file_extension": ".py",
   "mimetype": "text/x-python",
   "name": "python",
   "nbconvert_exporter": "python",
   "pygments_lexer": "ipython3",
   "version": "3.11.4"
  }
 },
 "nbformat": 4,
 "nbformat_minor": 5
}
