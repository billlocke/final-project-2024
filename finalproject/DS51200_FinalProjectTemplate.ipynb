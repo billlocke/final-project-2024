{
 "cells": [
  {
   "cell_type": "markdown",
   "id": "45762487-d33f-486d-8e38-2cdea04e3528",
   "metadata": {},
   "source": [
    "# Final Project Report\n",
    "\n",
    "* Class: DS 5100\n",
    "* Student Name: Bill Locke\n",
    "* Student Net ID:  wpl3a\n",
    "* This URL: a URL to the notebook source of this document: https://ood.hpc.virginia.edu/node/udc-aw32-1c0/16327/lab/tree/final-project-2024/finalproject/DS51200_FinalProjectTemplate.ipynb"
   ]
  },
  {
   "cell_type": "markdown",
   "id": "acf756c1-ecaa-41dc-b6ca-d566eb94560b",
   "metadata": {},
   "source": [
    "# Instructions\n",
    "\n",
    "Follow the instructions in the Final Project isntructions notebook and put evidence of your work in this notebook.\n",
    "\n",
    "Total points for each subsection under **Deliverables** and **Scenarios** are given in parentheses.\n",
    "\n",
    "Breakdowns of points within subsections are specified within subsection instructions as bulleted lists.\n",
    "\n",
    "This project is worth **50 points**."
   ]
  },
  {
   "cell_type": "markdown",
   "id": "89dc7a32-f682-4402-8c1e-b6ccdb3e0e39",
   "metadata": {},
   "source": [
    "# Deliverables"
   ]
  },
  {
   "cell_type": "markdown",
   "id": "d32cb273-9a40-4909-a7ce-51f6e4958d3c",
   "metadata": {},
   "source": [
    "## The Monte Carlo Module (10)\n",
    "\n",
    "- URL included, appropriately named (1).\n",
    "- Includes all three specified classes (3).\n",
    "- Includes at least all 12 specified methods (6; .5 each)."
   ]
  },
  {
   "cell_type": "markdown",
   "id": "f5f3b070-de9e-4de9-bfae-8974d184aa28",
   "metadata": {},
   "source": [
    "Put the URL to your GitHub repo here.\n",
    "\n",
    "Repo URL: https://github.com/billlocke/final-project-2024.git"
   ]
  },
  {
   "cell_type": "markdown",
   "id": "162370fb-3729-4c85-b040-8c25b2c966d2",
   "metadata": {},
   "source": [
    "Paste a copyy of your module here.\n",
    "\n",
    "NOTE: Paste as text, not as code. Use triple backticks to wrap your code blocks."
   ]
  },
  {
   "cell_type": "code",
   "execution_count": 7,
   "id": "a0743efc-a785-4b5c-a9e6-b65d4507a67f",
   "metadata": {},
   "outputs": [],
   "source": [
    "# A code block with your classes."
   ]
  },
  {
   "cell_type": "markdown",
   "id": "6377727a-8f0a-491e-9f1c-d9dc225edd35",
   "metadata": {},
   "source": [
    "## Unitest Module (2)\n",
    "\n",
    "Paste a copy of your test module below.\n",
    "\n",
    "NOTE: Paste as text, not as code. Use triple backticks to wrap your code blocks.\n",
    "\n",
    "- All methods have at least one test method (1).\n",
    "- Each method employs one of Unittest's Assert methods (1)."
   ]
  },
  {
   "cell_type": "code",
   "execution_count": 2,
   "id": "14b878d8-258b-4cf2-ad88-b8ee90d43977",
   "metadata": {},
   "outputs": [],
   "source": [
    "# A code block with your test code."
   ]
  },
  {
   "cell_type": "markdown",
   "id": "3e058d03-29bc-408f-b36d-0605b4f4b8c0",
   "metadata": {
    "tags": []
   },
   "source": [
    "## Unittest Results (3)\n",
    "\n",
    "Put a copy of the results of running your tests from the command line here.\n",
    "\n",
    "Again, paste as text using triple backticks.\n",
    "\n",
    "- All 12 specified methods return OK (3; .25 each)."
   ]
  },
  {
   "cell_type": "raw",
   "id": "54691fd0-836c-43c7-adc9-4a09d8aa9ab2",
   "metadata": {
    "tags": []
   },
   "source": [
    "# A text block with the output of a successful test."
   ]
  },
  {
   "cell_type": "markdown",
   "id": "d9ffe8c5-eb2f-4ad1-af76-a46550e4c7ac",
   "metadata": {},
   "source": [
    "## Import (1)\n",
    "\n",
    "Import your module here. This import should refer to the code in your package directory.\n",
    "\n",
    "- Module successuflly imported (1)."
   ]
  },
  {
   "cell_type": "code",
   "execution_count": 6,
   "id": "a05dffb3-e6d6-4f78-9df4-5abd0cf74ca9",
   "metadata": {
    "tags": []
   },
   "outputs": [
    {
     "name": "stdout",
     "output_type": "stream",
     "text": [
      "Welcome to the DS5100 Final Project package\n"
     ]
    }
   ],
   "source": [
    "# e.g. import montecarlo.montecarlo \n",
    "import numpy as np\n",
    "import pandas as pd\n",
    "import unittest\n",
    "import finalproject\n",
    "from die import Die\n",
    "from game import Game\n",
    "from analyzer import Analyzer\n",
    "#from game import Game\n"
   ]
  },
  {
   "cell_type": "markdown",
   "id": "f30c4842-65b1-4556-98b6-3fe1a07e1371",
   "metadata": {},
   "source": [
    "## Help Docs (4)\n",
    "\n",
    "Show your docstring documentation by applying `help()` to your imported module.\n",
    "\n",
    "- All methods have a docstring (3; .25 each).\n",
    "- All classes have a docstring (1; .33 each)."
   ]
  },
  {
   "cell_type": "code",
   "execution_count": 8,
   "id": "bf4fbf1f-9885-471c-a0a6-e9ca90e160de",
   "metadata": {
    "tags": []
   },
   "outputs": [
    {
     "name": "stdout",
     "output_type": "stream",
     "text": [
      "Help on class Die in module die:\n",
      "\n",
      "class Die(builtins.object)\n",
      " |  Die(faces)\n",
      " |  \n",
      " |  General Definition\n",
      " |  A die has 𝑁 sides, or “faces”, and 𝑊 weights,\n",
      " |  and can be rolled to select a face.\n",
      " |  For example, a “die” with 𝑁=2 is a coin, and\n",
      " |  a one with 𝑁=6 is a standard die.\n",
      " |  Normally, dice and coins are “fair,” meaning that the\n",
      " |  each side has an equal weight.\n",
      " |  An unfair die is one where the weights are unequal.\n",
      " |  Each side contains a unique symbol.\n",
      " |  Symbols may be all alphabetic or all numeric.\n",
      " |  𝑊 defaults to 1.0 for each face\n",
      " |  but can be changed after the object is created.\n",
      " |  The weights are just positive numbers (integers or floats, including 0),\n",
      " |  not a normalized probability distribution.\n",
      " |  The die has one behavior, which is to be rolled one or more times.\n",
      " |  Specific Methods and Attributes:\n",
      " |      1. An initializer\n",
      " |      2. Change the weight of a single side.\n",
      " |      3. Create die\n",
      " |      4. Roll die\n",
      " |      5. Show die's current state\n",
      " |  \n",
      " |  Methods defined here:\n",
      " |  \n",
      " |  __init__(self, faces)\n",
      " |      Initialize self.  See help(type(self)) for accurate signature.\n",
      " |  \n",
      " |  change_weight(self, face_to_change, new_weight)\n",
      " |      Takes two arguments: the face value to be changed and the new weight.\n",
      " |  \n",
      " |  create_die(self, faces_df)\n",
      " |      Create the die using the object's weights. Save to self as a DataFrame.\n",
      " |  \n",
      " |  plot_results(self, my_results)\n",
      " |      Show the results of rolling the dice n times with a simple bar graph.\n",
      " |  \n",
      " |  roll_die(self, number_of_rolls)\n",
      " |      takes a parameter of how many times the die is to be rolled; defaults to 1.\n",
      " |  \n",
      " |  show_die_state(self, die)\n",
      " |      A method to show the die’s current state.\n",
      " |      Returns a copy of the private die data frame.\n",
      " |  \n",
      " |  ----------------------------------------------------------------------\n",
      " |  Data descriptors defined here:\n",
      " |  \n",
      " |  __dict__\n",
      " |      dictionary for instance variables (if defined)\n",
      " |  \n",
      " |  __weakref__\n",
      " |      list of weak references to the object (if defined)\n",
      "\n",
      "Help on class Game in module game:\n",
      "\n",
      "class Game(builtins.object)\n",
      " |  Game(die_list)\n",
      " |  \n",
      " |  General Definition\n",
      " |  A game consists of rolling of one or more similar dice (Die objects)\n",
      " |      one or more times.\n",
      " |  By similar dice, we mean that each die in a given game \n",
      " |      has the same number of sides and associated faces, \n",
      " |      but each die object may have its own weights.\n",
      " |  Each game is initialized with a Python list \n",
      " |      that contains one or more dice.\n",
      " |  Game objects have a behavior to play a game, \n",
      " |      i.e. to roll all of the dice a given number of times.\n",
      " |  Game objects only keep the results of their most recent play.\n",
      " |  Specific Methods and Attributes;\n",
      " |      1. An initializer\n",
      " |      2. A play method\n",
      " |      3. Show results of the most recent play\n",
      " |  \n",
      " |  Methods defined here:\n",
      " |  \n",
      " |  __init__(self, die_list)\n",
      " |      Initialize self.  See help(type(self)) for accurate signature.\n",
      " |  \n",
      " |  play(self, number_of_rolls)\n",
      " |      Takes parameter specifying how many times \n",
      " |          the dice should be rolled. Saves result of the play\n",
      " |          to a private data frame.\n",
      " |      The data frame should be in wide format, \n",
      " |          i.e. have the roll number as a named index, \n",
      " |          columns for each die number \n",
      " |          (using its list index as the column name),\n",
      " |          and the face rolled in that instance in each cell.\n",
      " |  \n",
      " |  show_game_results(self, my_results)\n",
      " |      Show the results of rolling the dice n times with a simple bar graph.\n",
      " |  \n",
      " |  show_results(self, form='w')\n",
      " |      Takes parameter specifying wide or narrow format. \n",
      " |      Returns a copy of the private play data frame\n",
      " |          to the user.\n",
      " |      Takes a parameter to return the data frame \n",
      " |          in narrow or wide form which defaults to wide form.\n",
      " |      The narrow form will have a MultiIndex, \n",
      " |          comprising the roll number and the dienumber (in that order), \n",
      " |          and a single column with the outcomes (i.e. the face rolled).\n",
      " |  \n",
      " |  ----------------------------------------------------------------------\n",
      " |  Data descriptors defined here:\n",
      " |  \n",
      " |  __dict__\n",
      " |      dictionary for instance variables (if defined)\n",
      " |  \n",
      " |  __weakref__\n",
      " |      list of weak references to the object (if defined)\n",
      "\n",
      "Help on class Analyzer in module analyzer:\n",
      "\n",
      "class Analyzer(builtins.object)\n",
      " |  Analyzer(die_list)\n",
      " |  \n",
      " |  General Definition\n",
      " |  An Analyzer object takes the results of a single game and \n",
      " |  computes various descriptive statistical properties about it.\n",
      " |  Specific Methods and Attributes:\n",
      " |      1. An initializer\n",
      " |      2. Jackpot\n",
      " |      3. Face counts per roll\n",
      " |      4. Combo_count\n",
      " |      5. Permutation count\n",
      " |  \n",
      " |  Methods defined here:\n",
      " |  \n",
      " |  __init__(self, die_list)\n",
      " |      Takes a game object as its input parameter.\n",
      " |      Throws a ValueError if the passed value is not a Game object\n",
      " |  \n",
      " |  combo_count(self)\n",
      " |      Computes the distinct combinations of faces rolled,\n",
      " |          along with their counts.\n",
      " |      Combinations are order-independent and may contain repetitions.\n",
      " |      Returns a data frame of results.\n",
      " |      The data frame should have a MultiIndex of distinct combinations\n",
      " |          and a column for the associated counts.\n",
      " |  \n",
      " |  face_counts_per_roll(self, form='w')\n",
      " |      Computes how many times a given face is rolled in each event.\n",
      " |      For example, if a roll of five dice has all sixes, \n",
      " |          then the counts for this roll would be \n",
      " |          for the face value ‘6’ and for the other faces.\n",
      " |      Returns a data frame of results.\n",
      " |      The data frame has an index of the roll number,\n",
      " |          face values as columns, \n",
      " |          and count values in the cells (i.e. it is in wide format).\n",
      " |  \n",
      " |  jackpot(self, number_of_rolls)\n",
      " |      A jackpot is a result in which all faces are the same,\n",
      " |          e.g. all ones for a six-sided die.\n",
      " |      Computes how many times the game resulted in a jackpot.\n",
      " |      Returns an integer for the number of jackpots.\n",
      " |  \n",
      " |  permutation_count(self)\n",
      " |      Computes the distinct permutations of faces rolled, a\n",
      " |          long with their counts.\n",
      " |      Permutations are order-dependent and may contain repetitions.\n",
      " |      Returns a data frame of results.\n",
      " |      The data frame should have a MultiIndex of distinct permutations\n",
      " |      and a column for the associated counts.\n",
      " |  \n",
      " |  ----------------------------------------------------------------------\n",
      " |  Data descriptors defined here:\n",
      " |  \n",
      " |  __dict__\n",
      " |      dictionary for instance variables (if defined)\n",
      " |  \n",
      " |  __weakref__\n",
      " |      list of weak references to the object (if defined)\n",
      "\n"
     ]
    }
   ],
   "source": [
    "# help(montecarlo)\n",
    "help (Die)\n",
    "help (Game)\n",
    "help (Analyzer)"
   ]
  },
  {
   "cell_type": "markdown",
   "id": "a9defa84-b395-4966-bd1c-5c6c2bb7ed68",
   "metadata": {},
   "source": [
    "## `README.md` File (3)\n",
    "\n",
    "Provide link to the README.md file of your project's repo.\n",
    "\n",
    "- Metadata section or info present (1).\n",
    "- Synopsis section showing how each class is called (1). (All must be included.)\n",
    "- API section listing all classes and methods (1). (All must be included.)"
   ]
  },
  {
   "cell_type": "markdown",
   "id": "ee090b33-d593-48a0-bf35-e739cea0942c",
   "metadata": {},
   "source": [
    "URL: https://ood.hpc.virginia.edu/node/udc-aw32-1c0/43109/lab/tree/final-project-2024/README.md"
   ]
  },
  {
   "cell_type": "markdown",
   "id": "108604c8-8827-42ef-ab59-6b25428fc0ca",
   "metadata": {},
   "source": [
    "## Successful installation (2)\n",
    "\n",
    "Put a screenshot or paste a copy of a terminal session where you successfully install your module with pip.\n",
    "\n",
    "If pasting text, use a preformatted text block to show the results.\n",
    "\n",
    "- Installed with `pip` (1).\n",
    "- Successfully installed message appears (1)."
   ]
  },
  {
   "cell_type": "raw",
   "id": "1278db6a-aa53-4e5c-a749-93a87ab239e0",
   "metadata": {},
   "source": [
    "# Pasted code\n",
    "'''\n",
    "-bash-4.4$ls -al\n",
    "total 28\n",
    "drwx--S---  6 wpl3a users 4096 Nov 30 12:57 .\n",
    "drwx--s--x 28 wpl3a users 8192 Nov 29 17:01 ..\n",
    "drwx--S---  2 wpl3a users 4096 Nov 29 12:02 DS5100_Final_Project.egg-info\n",
    "drwx--S---  4 wpl3a users 4096 Nov 30 13:37 finalproject\n",
    "drwx--S---  8 wpl3a users 4096 Nov 29 12:06 .git\n",
    "-rw-------  1 wpl3a users 3139 Nov  7 16:47 .gitignore\n",
    "drwx--S---  2 wpl3a users 4096 Nov  8 16:00 .ipynb_checkpoints\n",
    "-rw-------  1 wpl3a users 1066 Nov  7 16:47 LICENSE\n",
    "-rw-------  1 wpl3a users 9015 Nov 30 12:57 README.md\n",
    "-rw-------  1 wpl3a users  314 Nov  8 15:54 setup.py\n",
    "-bash-4.4$pip install -e .\n",
    "Defaulting to user installation because normal site-packages is not writeable\n",
    "Obtaining file:///sfs/gpfs/tardis/home/wpl3a/final-project-2024\n",
    "  Preparing metadata (setup.py) ... done\n",
    "Installing collected packages: DS5100-Final-Project\n",
    "  Attempting uninstall: DS5100-Final-Project\n",
    "    Found existing installation: DS5100-Final-Project 0.1\n",
    "    Uninstalling DS5100-Final-Project-0.1:\n",
    "      Successfully uninstalled DS5100-Final-Project-0.1\n",
    "  Running setup.py develop for DS5100-Final-Project\n",
    "Successfully installed DS5100-Final-Project-0.1\n",
    "-bash-4.4$git add .\n",
    "-bash-4.4$git commit -m '11/30 1:40 install of finalproject package'\n",
    "[main 5ad62f7] 11/30 1:40 install of finalproject package\n",
    " 12 files changed, 1920 insertions(+), 331 deletions(-)\n",
    " create mode 100644 finalproject/DS51200_FinalProjectTemplate.ipynb\n",
    " create mode 100644 finalproject/analyzer.py\n",
    " create mode 100644 finalproject/game.py\n",
    " create mode 100644 finalproject/testdieclass OBE.ipynb\n",
    "-bash-4.4$git push\n",
    "Enter passphrase for key '/home/wpl3a/.ssh/id_ed25519': \n",
    "Enumerating objects: 25, done.\n",
    "Counting objects: 100% (25/25), done.\n",
    "Delta compression using up to 40 threads\n",
    "Compressing objects: 100% (15/15), done.\n",
    "Writing objects: 100% (15/15), 54.96 KiB | 7.85 MiB/s, done.\n",
    "Total 15 (delta 7), reused 0 (delta 0), pack-reused 0\n",
    "remote: Resolving deltas: 100% (7/7), completed with 5 local objects.\n",
    "To github.com:billlocke/final-project-2024.git\n",
    "   6edafda..5ad62f7  main -> main\n",
    "\n",
    "'''"
   ]
  },
  {
   "cell_type": "markdown",
   "id": "7c44695d-d1b3-4edf-9f94-e64d7446f199",
   "metadata": {},
   "source": [
    "# Scenarios\n",
    "\n",
    "Use code blocks to perform the tasks for each scenario.\n",
    "\n",
    "Be sure the outputs are visible before submitting."
   ]
  },
  {
   "cell_type": "markdown",
   "id": "e2479eae-6fc9-44cd-b8d7-9b22cb501f2a",
   "metadata": {
    "tags": []
   },
   "source": [
    "## Scenario 1: A 2-headed Coin (9)\n",
    "\n",
    "Task 1. Create a fair coin (with faces $H$ and $T$) and one unfair coin in which one of the faces has a weight of $5$ and the others $1$.\n",
    "\n",
    "- Fair coin created (1).\n",
    "- Unfair coin created with weight as specified (1)."
   ]
  },
  {
   "cell_type": "code",
   "execution_count": null,
   "id": "55ce498e-c75f-4425-9e3e-b635bd6cd9e1",
   "metadata": {},
   "outputs": [],
   "source": []
  },
  {
   "cell_type": "markdown",
   "id": "02b272ab-99da-4b6e-ac2a-555b73e09c07",
   "metadata": {},
   "source": [
    "Task 2. Play a game of $1000$ flips with two fair dice.\n",
    "\n",
    "- Play method called correclty and without error (1)."
   ]
  },
  {
   "cell_type": "code",
   "execution_count": null,
   "id": "65c92601-d32d-4326-b215-74953aee27f2",
   "metadata": {},
   "outputs": [],
   "source": []
  },
  {
   "cell_type": "markdown",
   "id": "7d9c3dc8-22c1-4cae-81fb-d68d774a05d1",
   "metadata": {},
   "source": [
    "Task 3. Play another game (using a new Game object) of $1000$ flips, this time using two unfair dice and one fair die. For the second unfair die, you can use the same die object twice in the list of dice you pass to the Game object.\n",
    "\n",
    "- New game object created (1).\n",
    "- Play method called correclty and without error (1)."
   ]
  },
  {
   "cell_type": "code",
   "execution_count": null,
   "id": "d4098bed-1eb2-4084-8d5e-9fda07c3be43",
   "metadata": {},
   "outputs": [],
   "source": []
  },
  {
   "cell_type": "markdown",
   "id": "f690ebfc-fe71-4eb2-976d-7ac80ca6c23f",
   "metadata": {},
   "source": [
    "Task 4. For each game, use an Analyzer object to determine the raw frequency of jackpots — i.e. getting either all $H$s or all $T$s.\n",
    "\n",
    "- Analyzer objecs instantiated for both games (1).\n",
    "- Raw frequencies reported for both (1)."
   ]
  },
  {
   "cell_type": "code",
   "execution_count": null,
   "id": "b26b8b7e-3be7-4476-a9a4-37d97536729e",
   "metadata": {},
   "outputs": [],
   "source": []
  },
  {
   "cell_type": "markdown",
   "id": "b73d233c-445e-40cd-8858-0c5e1f097105",
   "metadata": {},
   "source": [
    "Task 5. For each analyzer, compute relative frequency as the number of jackpots over the total number of rolls.\n",
    "\n",
    "- Both relative frequencies computed (1)."
   ]
  },
  {
   "cell_type": "code",
   "execution_count": null,
   "id": "9a96b31b-1b9d-496e-be3e-4bf83c45ec3a",
   "metadata": {},
   "outputs": [],
   "source": []
  },
  {
   "cell_type": "markdown",
   "id": "a6e1e734-7f5c-4721-8ba4-2f3a424cf984",
   "metadata": {},
   "source": [
    "Task 6. Show your results, comparing the two relative frequencies, in a simple bar chart.\n",
    "\n",
    "- Bar chart plotted and correct (1)."
   ]
  },
  {
   "cell_type": "code",
   "execution_count": null,
   "id": "473fa67c-aa53-4aa3-a0b7-e8772b3f6ed3",
   "metadata": {},
   "outputs": [],
   "source": []
  },
  {
   "cell_type": "markdown",
   "id": "725cfa5b-e4b7-47c9-86aa-8d9e1fe6c8c7",
   "metadata": {},
   "source": [
    "## Scenario 2: A 6-sided Die (9)\n",
    "\n",
    "Task 1. Create three dice, each with six sides having the faces 1 through 6.\n",
    "\n",
    "- Three die objects created (1)."
   ]
  },
  {
   "cell_type": "code",
   "execution_count": null,
   "id": "6a8bc611-325a-4e05-88d5-980e0a2cf7c5",
   "metadata": {},
   "outputs": [],
   "source": []
  },
  {
   "cell_type": "markdown",
   "id": "2ed3ad26-fbe9-43bd-9ad7-f683a4191d12",
   "metadata": {},
   "source": [
    "Task 2. Convert one of the dice to an unfair one by weighting the face $6$ five times more than the other weights (i.e. it has weight of 5 and the others a weight of 1 each).\n",
    "\n",
    "- Unfair die created with proper call to weight change method (1)."
   ]
  },
  {
   "cell_type": "code",
   "execution_count": null,
   "id": "e33dd18f-7f90-456d-a680-61c08a328e21",
   "metadata": {},
   "outputs": [],
   "source": []
  },
  {
   "cell_type": "markdown",
   "id": "7f6c062a-4c5b-45b9-96b8-76a0354c7e47",
   "metadata": {},
   "source": [
    "Task 3. Convert another of the dice to be unfair by weighting the face $1$ five times more than the others.\n",
    "\n",
    "- Unfair die created with proper call to weight change method (1)."
   ]
  },
  {
   "cell_type": "code",
   "execution_count": null,
   "id": "01133a4e-6b06-4246-8d90-8e6d6995be51",
   "metadata": {},
   "outputs": [],
   "source": []
  },
  {
   "cell_type": "markdown",
   "id": "f0ed31cb-0a3c-4eb2-b85e-6ed6b2eb6e58",
   "metadata": {},
   "source": [
    "Task 4. Play a game of $10000$ rolls with $5$ fair dice.\n",
    "\n",
    "- Game class properly instantiated (1). \n",
    "- Play method called properly (1)."
   ]
  },
  {
   "cell_type": "code",
   "execution_count": null,
   "id": "e92395a4-9ed8-4cb0-8c85-38768a784ffc",
   "metadata": {},
   "outputs": [],
   "source": []
  },
  {
   "cell_type": "markdown",
   "id": "7814b402-46a4-40e5-8141-20e05c3e646b",
   "metadata": {},
   "source": [
    "Task 5. Play another game of $10000$ rolls, this time with $2$ unfair dice, one as defined in steps #2 and #3 respectively, and $3$ fair dice.\n",
    "\n",
    "- Game class properly instantiated (1). \n",
    "- Play method called properly (1)."
   ]
  },
  {
   "cell_type": "code",
   "execution_count": null,
   "id": "7cd58fba-b2a5-4d5d-bc6d-2a7a68d18c4f",
   "metadata": {},
   "outputs": [],
   "source": []
  },
  {
   "cell_type": "markdown",
   "id": "7b6cd372-2bb8-4df8-ade1-8f48bc300955",
   "metadata": {},
   "source": [
    "Task 6. For each game, use an Analyzer object to determine the relative frequency of jackpots and show your results, comparing the two relative frequencies, in a simple bar chart.\n",
    "\n",
    "- Jackpot methods called (1).\n",
    "- Graph produced (1)."
   ]
  },
  {
   "cell_type": "code",
   "execution_count": null,
   "id": "bbdcf695-8937-406e-9b53-aa0b9ee3c59a",
   "metadata": {},
   "outputs": [],
   "source": []
  },
  {
   "cell_type": "markdown",
   "id": "9f04e9be-8fcf-4ea4-a391-6614608285f8",
   "metadata": {},
   "source": [
    "## Scenario 3: Letters of the Alphabet (7)\n",
    "\n",
    "Task 1. Create a \"die\" of letters from $A$ to $Z$ with weights based on their frequency of usage as found in the data file `english_letters.txt`. Use the frequencies (i.e. raw counts) as weights.\n",
    "\n",
    "- Die correctly instantiated with source file data (1).\n",
    "- Weights properly applied using weight setting method (1)."
   ]
  },
  {
   "cell_type": "code",
   "execution_count": null,
   "id": "b0ceb771-3cdf-4d8f-8c2c-020806bbb909",
   "metadata": {},
   "outputs": [],
   "source": []
  },
  {
   "cell_type": "markdown",
   "id": "88e2e14a-6223-470a-a2c8-bca1120d7a5b",
   "metadata": {},
   "source": [
    "Task 2. Play a game involving $4$ of these dice with $1000$ rolls.\n",
    "\n",
    "- Game play method properly called (1)."
   ]
  },
  {
   "cell_type": "code",
   "execution_count": null,
   "id": "2ae087cc-936d-4f1e-bddb-a7c179d139e0",
   "metadata": {},
   "outputs": [],
   "source": []
  },
  {
   "cell_type": "markdown",
   "id": "3b9ff800-bf1f-4f66-9d7f-ff57a648e9f0",
   "metadata": {},
   "source": [
    "Task 3. Determine how many permutations in your results are actual English words, based on the vocabulary found in `scrabble_words.txt`.\n",
    "\n",
    "- Use permutation method (1).\n",
    "- Get count as difference between permutations and vocabulary (1)."
   ]
  },
  {
   "cell_type": "code",
   "execution_count": null,
   "id": "ed1c7fa0-cfa3-4cf4-9fd0-9f84b86b0f64",
   "metadata": {},
   "outputs": [],
   "source": []
  },
  {
   "cell_type": "markdown",
   "id": "fcf068cf-381a-4b3e-ac3a-0510eb4dbdb0",
   "metadata": {},
   "source": [
    "Task 4. Repeat steps #2 and #3, this time with $5$ dice. How many actual words does this produce? Which produces more?\n",
    "\n",
    "- Successfully repreats steps (1).\n",
    "- Identifies parameter with most found words (1)."
   ]
  }
 ],
 "metadata": {
  "kernelspec": {
   "display_name": "Python 3 (ipykernel)",
   "language": "python",
   "name": "python3"
  },
  "language_info": {
   "codemirror_mode": {
    "name": "ipython",
    "version": 3
   },
   "file_extension": ".py",
   "mimetype": "text/x-python",
   "name": "python",
   "nbconvert_exporter": "python",
   "pygments_lexer": "ipython3",
   "version": "3.11.4"
  },
  "toc-autonumbering": true,
  "widgets": {
   "application/vnd.jupyter.widget-state+json": {
    "state": {},
    "version_major": 2,
    "version_minor": 0
   }
  }
 },
 "nbformat": 4,
 "nbformat_minor": 5
}
