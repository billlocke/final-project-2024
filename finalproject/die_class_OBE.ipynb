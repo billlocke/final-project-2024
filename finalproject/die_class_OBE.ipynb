{
 "cells": [
  {
   "cell_type": "code",
   "execution_count": 1,
   "id": "ff933c66-99d9-4c5a-88eb-c9a3c5342361",
   "metadata": {
    "tags": []
   },
   "outputs": [
    {
     "ename": "SyntaxError",
     "evalue": "unterminated string literal (detected at line 57) (1947199915.py, line 57)",
     "output_type": "error",
     "traceback": [
      "\u001b[0;36m  Cell \u001b[0;32mIn[1], line 57\u001b[0;36m\u001b[0m\n\u001b[0;31m    if type (faces) != '\u001b[0m\n\u001b[0m                       ^\u001b[0m\n\u001b[0;31mSyntaxError\u001b[0m\u001b[0;31m:\u001b[0m unterminated string literal (detected at line 57)\n"
     ]
    }
   ],
   "source": [
    "import numpy as np\n",
    "import pandas as pd\n",
    "\n",
    "class Die():\n",
    "'''General Definition\n",
    "A die has 𝑁 sides, or “faces”, and 𝑊 weights,\n",
    "and can be rolled to select a face.\n",
    "For example, a “die” with 𝑁=2 is a coin, and\n",
    "a one with 𝑁=6 is a standard die.\n",
    "Normally, dice and coins are “fair,” meaning that the\n",
    "each side has an equal weight.\n",
    "An unfair die is one where the weights are unequal.\n",
    "Each side contains a unique symbol.\n",
    "Symbols may be all alphabetic or all numeric.\n",
    "𝑊 defaults to 1.0 for each face\n",
    "but can be changed after the object is created.\n",
    "The weights are just positive numbers (integers or floats, including 0),\n",
    "not a normalized probability distribution.\n",
    "The die has one behavior, which is to be rolled one or more times.\n",
    "Specific Methods and Attributes:\n",
    "    1. An initializer\n",
    "    2. Change the weight of a single side.\n",
    "    3. Create die\n",
    "    4. Roll die\n",
    "    5. Show die's current state\n",
    "'''\n",
    "def __init__(self, faces):\n",
    "\n",
    "    self.faces = faces\n",
    "    if type (faces) != ''\n",
    "    \n",
    "    self.weights = np.ones(len (self.faces))\n",
    "\"Initalize the object by defining the number of rolls and the die weights. self.n_rolls = 10\n",
    "# throw numpy error if not a NumPy arrat\n",
    "self.weights = [1,1,1,1,1,1]\n",
    "# def create_die(self):\n",
    "\"Create the die using the object's weights. Save to self as a DataFrame.\"\n",
    "self.n_sides = len(self.weights)\n",
    "self.my_probs = [i/sum(self.weights) for i in self.weights]\n",
    "self.die = pd.DataFrame({\n",
    "'side': range(1, self.n_sides + 1),\n",
    "'weights': self.my_probs\n",
    "})\n",
    "\n",
    "def roll_die(self):\n",
    "\"Roll the die using the object's specified number of rolls and die. Save to results = []\n",
    "for i in range(self.n_rolls):\n",
    "result = self.die.side.sample(weights=self.die.weights).values[0]\n",
    "results.append(result)\n",
    "self.results = pd.Series(results)\n",
    "\n",
    "def plot_results(self):\n",
    "\"Plot the results using the state stored in self.\"\n",
    "prob_model = pd.Series({i+1:round(p, 2) for i, p in enumerate(self.my_probs)})\n",
    "print(\"Sides:\", self.n_sides)\n",
    "print(\"Model:\")\n",
    "print(prob_model)\n",
    "print(\"Rolls:\", self.n_rolls)\n",
    "self.results.value_counts().sort_index().plot.bar(rot=0);\n",
    "# We add another method because it's so easy :-)\n",
    "def plot_probs(self):\n",
    "\"Plot the probabilities of the die sides.\"\n",
    "pd.Series(self.my_probs).plot.pie(title=\"Die Model\")\n",
    "def do_it_all(self):\n",
    "\"The main function that does everything.\"\n",
    "self.create_die()\n",
    "self.roll_die()\n",
    "self.plot_results()"
   ]
  },
  {
   "cell_type": "code",
   "execution_count": 12,
   "id": "05356973-7fe8-4a6c-a3b0-7d16ed9c82bd",
   "metadata": {
    "tags": []
   },
   "outputs": [
    {
     "name": "stdout",
     "output_type": "stream",
     "text": [
      "   weights\n",
      "0      1.0\n",
      "1      1.0\n",
      "2      1.0\n",
      "3      1.0\n",
      "4      1.0\n",
      "5      1.0\n"
     ]
    }
   ],
   "source": [
    "import numpy as np\n",
    "import pandas as pd\n",
    "\n",
    "def initializer (faces):\n",
    "    # Takes a NumPy array of faces as an argument.\n",
    "\n",
    "    # verify faces is type (np.ndarray); TypeError if not\n",
    "    if not isinstance (faces, np.ndarray):\n",
    "        raise TypeError('faces is not an np array')\n",
    "\n",
    "    # Tests to see if the values are distinct; ValueError if not\n",
    "    if len(faces) != len(set(faces)):    # 'set' values are unique\n",
    "        raise ValueError('faces are not unique')\n",
    "        # faces = np.unique (faces) will remove \"redundant\" values        \n",
    "\n",
    "    # Internally initializes the weights to 1.0 for each face.\n",
    "    weights = np.ones(len(faces))\n",
    "    #print (faces, weights)\n",
    "\n",
    "    # Saves both faces and weights in a private data frame\n",
    "    #   with faces in the index.\n",
    "    index_values = [faces]\n",
    "    faces_df = pd.DataFrame({'weights': weights}, index=index_values)\n",
    "    return (faces_df)\n",
    "    \n",
    "faces = np.arange (6)  # creates array\n",
    "#print (faces)\n",
    "faces_df = initializer(faces)\n",
    "print (faces_df)"
   ]
  },
  {
   "cell_type": "code",
   "execution_count": 13,
   "id": "fb6f1d76-097f-4205-b4bd-d570271f69f9",
   "metadata": {},
   "outputs": [
    {
     "name": "stdout",
     "output_type": "stream",
     "text": [
      "   weights\n",
      "0      1.0\n",
      "1      1.0\n",
      "2      1.0\n",
      "3      1.0\n",
      "4      5.0\n",
      "5      1.0\n"
     ]
    }
   ],
   "source": [
    "import numpy as np\n",
    "import pandas as pd\n",
    "\n",
    "def change_weight (face_to_change, new_weight):\n",
    "    # Takes two arguments: the face value to be changed and the new weight.\n",
    "\n",
    "    # Checks to see if the face passed is valid value,\n",
    "    #   i.e. if it is in the die array; IndexError if not\n",
    "    if face_to_change not in faces_df.index:\n",
    "        raise IndexError('face_to_change not in faces.df')\n",
    "\n",
    "    # Checks to see if the weight is a valid type,\n",
    "    #   i.e. if it is numeric (integer or float); TypeError if not\n",
    "    if not isinstance(new_weight, (int, float)):\n",
    "        raise TypeError('new_weight is not valid type')\n",
    "\n",
    "    # change face's weight\n",
    "    faces_df.loc[face_to_change] = new_weight\n",
    "    \n",
    "change_weight (4, 5)\n",
    "print (faces_df)"
   ]
  },
  {
   "cell_type": "code",
   "execution_count": 14,
   "id": "df3ccd1b-5d78-416f-bf21-9322264eb867",
   "metadata": {},
   "outputs": [
    {
     "name": "stdout",
     "output_type": "stream",
     "text": [
      "   side  weights\n",
      "0     1      0.1\n",
      "1     2      0.1\n",
      "2     3      0.1\n",
      "3     4      0.1\n",
      "4     5      0.5\n",
      "5     6      0.1 \n",
      "sum of weights: 1.0\n",
      "number of rolls: 1000\n"
     ]
    },
    {
     "data": {
      "image/png": "[encoded data removed]",
      "text/plain": [
       "<Figure size 640x480 with 1 Axes>"
      ]
     },
     "metadata": {},
     "output_type": "display_data"
    }
   ],
   "source": [
    "import numpy as np\n",
    "import pandas as pd\n",
    "\n",
    "def create_die (faces_df):\n",
    "    # Create the die using the object's weights. \n",
    "    #   Save to self as a DataFrame.\"\n",
    "    n_sides = len(faces_df.weights)\n",
    "    my_probs = [i/sum(faces_df.weights) for i in faces_df.weights]\n",
    "    die = pd.DataFrame({\n",
    "    'side': range(1, n_sides + 1),\n",
    "    'weights': my_probs\n",
    "    })\n",
    "    return (die)\n",
    "\n",
    "def roll_die (number_of_rolls=1):\n",
    "    # Takes a parameter of how many times the die is to be rolled; \n",
    "    #   defaults to 1.\n",
    "       \n",
    "    print (die, '\\nsum of weights:', sum(die.weights))\n",
    "    print ('number of rolls:', number_of_rolls)   \n",
    "    \n",
    "    # This is essentially a random sample with replacement,\n",
    "    #   from the private die data frame, that applies the weights.\n",
    "    results = []\n",
    "    for i in range(number_of_rolls):\n",
    "        result = die.side.sample(weights=die.weights, replace=True).values[0]\n",
    "        \n",
    "#        print (result)\n",
    "        results.append(result)\n",
    "#        print (results)\n",
    "    results = pd.Series(results)\n",
    "    return (results)\n",
    "    #return pd.Series(results)\n",
    "\n",
    "#    def plot_results(my_results):\n",
    "\n",
    "def plot_results(my_results):\n",
    "    \"Show the results of rolling the dice n times with a simple bar graph.\"\n",
    "    results.value_counts().sort_index().plot.bar(rot=0);\n",
    "    # A method to show the die’s current state.\n",
    "    #  Returns a copy of the private die data frame.\n",
    "\n",
    "die = create_die (faces_df)\n",
    "results = roll_die (1000)\n",
    "plot_results (results)"
   ]
  },
  {
   "cell_type": "code",
   "execution_count": null,
   "id": "2e962863-8619-4c10-a125-cef7602e1de7",
   "metadata": {},
   "outputs": [],
   "source": []
  }
 ],
 "metadata": {
  "kernelspec": {
   "display_name": "Python 3 (ipykernel)",
   "language": "python",
   "name": "python3"
  },
  "language_info": {
   "codemirror_mode": {
    "name": "ipython",
    "version": 3
   },
   "file_extension": ".py",
   "mimetype": "text/x-python",
   "name": "python",
   "nbconvert_exporter": "python",
   "pygments_lexer": "ipython3",
   "version": "3.11.4"
  }
 },
 "nbformat": 4,
 "nbformat_minor": 5
}
