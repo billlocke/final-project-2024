{
 "cells": [
  {
   "cell_type": "code",
   "execution_count": 1,
   "id": "96dbf6d7-0da7-419d-934c-7248162ea5e8",
   "metadata": {
    "tags": []
   },
   "outputs": [
    {
     "data": {
      "text/plain": [
       "\"if __name__ == '__main__':\\n    unittest.main(verbosity=3)\""
      ]
     },
     "execution_count": 1,
     "metadata": {},
     "output_type": "execute_result"
    }
   ],
   "source": [
    "\n",
    "import numpy as np\n",
    "import pandas as pd\n",
    "import unittest\n",
    "from die import Die\n",
    "\n",
    "class DieTestSuite(unittest.TestCase):\n",
    "    \n",
    "    def test_1_change_weight(self): \n",
    "        # \n",
    "        print ('entering test_1_change_weight')        \n",
    " \n",
    "        faces = np.arange (6)  # creates array\n",
    "        faces_df = Die(faces)\n",
    "\n",
    "        new_weight = 5\n",
    "        faces_df.change_weight (4, new_weight)\n",
    "        self.assertTrue (new_weight > 0)\n",
    "\n",
    "    def test_2_create_die(self):\n",
    "        print ('entering test_2_create_die')\n",
    "        # \n",
    "        faces = np.arange (6)  # creates array\n",
    "        faces_df = Die(faces)\n",
    "        die = faces_df.create_die (faces_df)\n",
    "        self.assertTrue(isinstance (die, pd.DataFrame))\n",
    "\n",
    "    def test_3_roll_die(self):\n",
    "        print ('entering test_3_roll_die')        \n",
    "        # \n",
    "\n",
    "        faces = np.arange (6)  # creates array\n",
    "        faces_df = Die(faces)\n",
    "        die = faces_df.create_die (faces_df)\n",
    "\n",
    "        results = faces_df.roll_die(10)\n",
    "        print ('results:', results)\n",
    "        faces_df.plot_results (results)\n",
    "        \n",
    "        # This is essentially a random sample with replacement,\n",
    "        #   from the private die data frame, that applies the weights.\n",
    "        '''results = []\n",
    "        for i in range(self.number_of_rolls):\n",
    "            result = self.die.side.sample(weights=self.die.weights, replace=True).values[0]\n",
    "            results.append(result)\n",
    "        self.result = pd.DataFrame(results)\n",
    "        self.assertTrue(self.number_of_rolls >= 0)\n",
    "        return (self.result)\n",
    "        #return pd.Series(results)'''\n",
    "\n",
    "    def test_4_show_die_state(self):\n",
    "        print ('entering test_4_show_die_state')\n",
    "        faces = np.arange (6)  # creates array\n",
    "        faces_df = Die(faces)\n",
    "        die = faces_df.create_die (faces_df)\n",
    "\n",
    "        self.die = die\n",
    "        die_deep = self.die.copy()\n",
    "        die_deep2 = faces_df.show_die_state (die)\n",
    "        self.assertTrue(isinstance (die_deep, pd.DataFrame))\n",
    "        return die_deep\n",
    "    \n",
    "'''if __name__ == '__main__':\n",
    "    unittest.main(verbosity=3)'''"
   ]
  },
  {
   "cell_type": "code",
   "execution_count": 2,
   "id": "72b34b26-1606-49e8-b30d-44a1a8d8d0fd",
   "metadata": {
    "tags": []
   },
   "outputs": [
    {
     "name": "stdout",
     "output_type": "stream",
     "text": [
      "self.new_weight in change_weight: 5\n",
      "self.faces in change_weight:    weights\n",
      "0      1.0\n",
      "1      1.0\n",
      "2      1.0\n",
      "3      5.0\n",
      "4      1.0\n",
      "5      1.0\n",
      "self.faces_df type in create_die: <class 'pandas.core.frame.DataFrame'>\n",
      "self.faces_df in create_die:    weights\n",
      "0      1.0\n",
      "1      1.0\n",
      "2      1.0\n",
      "3      5.0\n",
      "4      1.0\n",
      "5      1.0\n",
      "n_sides in create_die: 6\n",
      "self.faces_df.weights in create_die: 0    1.0\n",
      "1    1.0\n",
      "2    1.0\n",
      "3    5.0\n",
      "4    1.0\n",
      "5    1.0\n",
      "Name: weights, dtype: float64\n",
      "my_probs in create_die: [0.1, 0.1, 0.1, 0.5, 0.1, 0.1]\n",
      "sum (self.faces_df.weights) in create_die 10.0\n",
      "NARROW:\n",
      " <bound method DataFrame.stack of      0\n",
      "0    6\n",
      "1    6\n",
      "2    6\n",
      "3    4\n",
      "4    5\n",
      "..  ..\n",
      "995  4\n",
      "996  6\n",
      "997  4\n",
      "998  2\n",
      "999  4\n",
      "\n",
      "[1000 rows x 1 columns]>\n",
      "my_results dimensions: (1000, 1)\n",
      "WIDE dimensions: (1000,)\n",
      "WIDE:\n",
      " 0  0      6\n",
      "   1      6\n",
      "   2      6\n",
      "   3      4\n",
      "   4      5\n",
      "         ..\n",
      "   995    4\n",
      "   996    6\n",
      "   997    4\n",
      "   998    2\n",
      "   999    4\n",
      "Length: 1000, dtype: int64\n"
     ]
    },
    {
     "data": {
      "image/png": "[encoded data removed]",
      "text/plain": [
       "<Figure size 640x480 with 1 Axes>"
      ]
     },
     "metadata": {},
     "output_type": "display_data"
    }
   ],
   "source": [
    "faces = np.arange (6)  # creates array\n",
    "faces_df = Die(faces)\n",
    "#print ('initialized in test:')\n",
    "\n",
    "faces_df.change_weight (4, 5)\n",
    "#print ('weight changed in test:')\n",
    "\n",
    "die = faces_df.create_die (faces_df)    # create die with updated weights\n",
    "#print ('die created in test:')\n",
    "\n",
    "#print ('show die state with method call:')\n",
    "die_deep2 = faces_df.show_die_state (die)\n",
    "#print ('show die state2 in test:\\n', die_deep2)\n",
    "\n",
    "results = faces_df.roll_die(1000)\n",
    "#print ('roil_die in test:')\n",
    "#print ('results:', results)\n",
    "faces_df.plot_results (results)\n",
    "#print ('plot_results in test:')\n"
   ]
  },
  {
   "cell_type": "code",
   "execution_count": null,
   "id": "9f94fd04-1eef-4ae6-b8b1-af5cca749336",
   "metadata": {},
   "outputs": [],
   "source": []
  }
 ],
 "metadata": {
  "kernelspec": {
   "display_name": "Python 3 (ipykernel)",
   "language": "python",
   "name": "python3"
  },
  "language_info": {
   "codemirror_mode": {
    "name": "ipython",
    "version": 3
   },
   "file_extension": ".py",
   "mimetype": "text/x-python",
   "name": "python",
   "nbconvert_exporter": "python",
   "pygments_lexer": "ipython3",
   "version": "3.11.4"
  }
 },
 "nbformat": 4,
 "nbformat_minor": 5
}
