{
 "cells": [
  {
   "cell_type": "code",
   "execution_count": 2,
   "id": "a0e39db4-405c-444c-987b-146093ca252e",
   "metadata": {},
   "outputs": [],
   "source": [
    "import numpy as np\n",
    "import pandas as pd\n",
    "import unittest\n",
    "import finalproject\n",
    "from die import Die\n",
    "#from game import Game"
   ]
  },
  {
   "cell_type": "code",
   "execution_count": 3,
   "id": "f83865db-18ec-4b54-8251-2978493cb614",
   "metadata": {},
   "outputs": [
    {
     "name": "stdout",
     "output_type": "stream",
     "text": [
      "initialized:\n",
      "weight changed:\n",
      "this is the created die1:\n",
      "    H=1/T=2  Weight\n",
      "0        1     0.5\n",
      "1        2     0.5\n",
      "initialized:\n",
      "this is the created die2:\n",
      "    H=1/T=2  Weight\n",
      "0        1     0.5\n",
      "1        2     0.5\n"
     ]
    }
   ],
   "source": [
    "# Scenario 1: A 2-headed Coin\n",
    "\n",
    "# Task 1. Create a fair coin (with faces H and T) \n",
    "# and one unfair coin in which one of the faces has a weight of 5\n",
    "# and the others 1\n",
    "\n",
    "faces = np.arange (2)  # creates array\n",
    "#faces1 = ['H', 'T']  # creates array\n",
    "faces_df1 = Die(faces)\n",
    "print ('initialized:')\n",
    "faces_df1.change_weight (1, 5)\n",
    "print ('weight changed:')\n",
    "die1 = faces_df1.create_die (faces_df1)\n",
    "die1.columns = ['H=1/T=2', 'Weight']\n",
    "print ('this is the created die1:\\n', die1)\n",
    "\n",
    "#faces2 = np.arange (2)  # creates array\n",
    "faces_df2 = Die(faces)\n",
    "print ('initialized:')\n",
    "#faces_df2.change_weight (1, 3)\n",
    "die2 = faces_df2.create_die (faces_df2)\n",
    "die2.columns = ['H=1/T=2', 'Weight']\n",
    "print ('this is the created die2:\\n', die2)\n"
   ]
  },
  {
   "cell_type": "code",
   "execution_count": 3,
   "id": "392d0802-1de6-42c0-961f-a1c9bae42d03",
   "metadata": {},
   "outputs": [
    {
     "name": "stdout",
     "output_type": "stream",
     "text": [
      "show die1 state:\n",
      "    H=1/T=2  Weight\n",
      "0        1     0.5\n",
      "1        2     0.5\n"
     ]
    },
    {
     "ename": "AttributeError",
     "evalue": "'DataFrame' object has no attribute 'side'",
     "output_type": "error",
     "traceback": [
      "\u001b[0;31m---------------------------------------------------------------------------\u001b[0m",
      "\u001b[0;31mAttributeError\u001b[0m                            Traceback (most recent call last)",
      "Cell \u001b[0;32mIn[3], line 12\u001b[0m\n\u001b[1;32m     10\u001b[0m die_deep1 \u001b[38;5;241m=\u001b[39m faces_df1\u001b[38;5;241m.\u001b[39mshow_die_state (die1)\n\u001b[1;32m     11\u001b[0m \u001b[38;5;28mprint\u001b[39m (\u001b[38;5;124m'\u001b[39m\u001b[38;5;124mshow die1 state:\u001b[39m\u001b[38;5;130;01m\\n\u001b[39;00m\u001b[38;5;124m'\u001b[39m, die_deep1)\n\u001b[0;32m---> 12\u001b[0m results1 \u001b[38;5;241m=\u001b[39m \u001b[43mfaces_df1\u001b[49m\u001b[38;5;241;43m.\u001b[39;49m\u001b[43mroll_die\u001b[49m\u001b[43m(\u001b[49m\u001b[38;5;241;43m1000\u001b[39;49m\u001b[43m)\u001b[49m\n\u001b[1;32m     14\u001b[0m \u001b[38;5;66;03m#faces2 = np.arange (2)  # creates array\u001b[39;00m\n\u001b[1;32m     15\u001b[0m \u001b[38;5;66;03m#faces_df2 = Die(faces2)\u001b[39;00m\n\u001b[1;32m     16\u001b[0m \u001b[38;5;66;03m#print ('initialized:')\u001b[39;00m\n\u001b[1;32m     17\u001b[0m \u001b[38;5;66;03m#faces_df2.change_weight (1, 5)\u001b[39;00m\n\u001b[1;32m     18\u001b[0m \u001b[38;5;66;03m#die2 = faces_df1.create_die (faces_df2)\u001b[39;00m\n\u001b[1;32m     19\u001b[0m \u001b[38;5;66;03m#print ('this is the created die2:', die2)\u001b[39;00m\n\u001b[1;32m     20\u001b[0m die_deep2 \u001b[38;5;241m=\u001b[39m faces_df2\u001b[38;5;241m.\u001b[39mshow_die_state (die2)\n",
      "File \u001b[0;32m/sfs/gpfs/tardis/home/wpl3a/final-project-2024/finalproject/die.py:92\u001b[0m, in \u001b[0;36mDie.roll_die\u001b[0;34m(self, number_of_rolls)\u001b[0m\n\u001b[1;32m     90\u001b[0m results \u001b[38;5;241m=\u001b[39m []\n\u001b[1;32m     91\u001b[0m \u001b[38;5;28;01mfor\u001b[39;00m i \u001b[38;5;129;01min\u001b[39;00m \u001b[38;5;28mrange\u001b[39m(number_of_rolls):\n\u001b[0;32m---> 92\u001b[0m     result \u001b[38;5;241m=\u001b[39m \u001b[38;5;28;43mself\u001b[39;49m\u001b[38;5;241;43m.\u001b[39;49m\u001b[43mdie\u001b[49m\u001b[38;5;241;43m.\u001b[39;49m\u001b[43mside\u001b[49m\u001b[38;5;241m.\u001b[39msample(weights\u001b[38;5;241m=\u001b[39m\u001b[38;5;28mself\u001b[39m\u001b[38;5;241m.\u001b[39mdie\u001b[38;5;241m.\u001b[39mweights, replace\u001b[38;5;241m=\u001b[39m\u001b[38;5;28;01mTrue\u001b[39;00m)\u001b[38;5;241m.\u001b[39mvalues[\u001b[38;5;241m0\u001b[39m]\n\u001b[1;32m     93\u001b[0m     results\u001b[38;5;241m.\u001b[39mappend(result)\n\u001b[1;32m     94\u001b[0m \u001b[38;5;28mself\u001b[39m\u001b[38;5;241m.\u001b[39mresult \u001b[38;5;241m=\u001b[39m pd\u001b[38;5;241m.\u001b[39mDataFrame(results)\n",
      "File \u001b[0;32m/apps/software/standard/core/jupyterlab/3.6.3-py3.11/lib/python3.11/site-packages/pandas/core/generic.py:5989\u001b[0m, in \u001b[0;36mNDFrame.__getattr__\u001b[0;34m(self, name)\u001b[0m\n\u001b[1;32m   5982\u001b[0m \u001b[38;5;28;01mif\u001b[39;00m (\n\u001b[1;32m   5983\u001b[0m     name \u001b[38;5;129;01mnot\u001b[39;00m \u001b[38;5;129;01min\u001b[39;00m \u001b[38;5;28mself\u001b[39m\u001b[38;5;241m.\u001b[39m_internal_names_set\n\u001b[1;32m   5984\u001b[0m     \u001b[38;5;129;01mand\u001b[39;00m name \u001b[38;5;129;01mnot\u001b[39;00m \u001b[38;5;129;01min\u001b[39;00m \u001b[38;5;28mself\u001b[39m\u001b[38;5;241m.\u001b[39m_metadata\n\u001b[1;32m   5985\u001b[0m     \u001b[38;5;129;01mand\u001b[39;00m name \u001b[38;5;129;01mnot\u001b[39;00m \u001b[38;5;129;01min\u001b[39;00m \u001b[38;5;28mself\u001b[39m\u001b[38;5;241m.\u001b[39m_accessors\n\u001b[1;32m   5986\u001b[0m     \u001b[38;5;129;01mand\u001b[39;00m \u001b[38;5;28mself\u001b[39m\u001b[38;5;241m.\u001b[39m_info_axis\u001b[38;5;241m.\u001b[39m_can_hold_identifiers_and_holds_name(name)\n\u001b[1;32m   5987\u001b[0m ):\n\u001b[1;32m   5988\u001b[0m     \u001b[38;5;28;01mreturn\u001b[39;00m \u001b[38;5;28mself\u001b[39m[name]\n\u001b[0;32m-> 5989\u001b[0m \u001b[38;5;28;01mreturn\u001b[39;00m \u001b[38;5;28;43mobject\u001b[39;49m\u001b[38;5;241;43m.\u001b[39;49m\u001b[38;5;21;43m__getattribute__\u001b[39;49m\u001b[43m(\u001b[49m\u001b[38;5;28;43mself\u001b[39;49m\u001b[43m,\u001b[49m\u001b[43m \u001b[49m\u001b[43mname\u001b[49m\u001b[43m)\u001b[49m\n",
      "\u001b[0;31mAttributeError\u001b[0m: 'DataFrame' object has no attribute 'side'"
     ]
    }
   ],
   "source": [
    "# Scenario 1: A 2-headed Coin\n",
    "\n",
    "# Task 2. Play a game of 1000 flips with two fair dice.\n",
    "#faces1 = np.arange (2)  # creates array\n",
    "#faces_df1 = Die(faces1)\n",
    "#print ('initialized:')\n",
    "#print ('weight changed:')\n",
    "#die1 = faces_df1.create_die (faces_df1)\n",
    "#print ('this is the created die1:', die1)\n",
    "die_deep1 = faces_df1.show_die_state (die1)\n",
    "print ('show die1 state:\\n', die_deep1)\n",
    "results1 = faces_df1.roll_die(1000)\n",
    "\n",
    "#faces2 = np.arange (2)  # creates array\n",
    "#faces_df2 = Die(faces2)\n",
    "#print ('initialized:')\n",
    "#faces_df2.change_weight (1, 5)\n",
    "#die2 = faces_df1.create_die (faces_df2)\n",
    "#print ('this is the created die2:', die2)\n",
    "die_deep2 = faces_df2.show_die_state (die2)\n",
    "print ('show die2 state:', die_deep2)\n",
    "results2 = faces_df2.roll_die(1000)\n",
    "\n",
    "results1.value_counts()\n",
    "print ('results1:\\n', results1)\n",
    "print ('results tally:\\n', results1.value_counts().sort_index())\n",
    "results2.value_counts()\n",
    "print ('results2:\\n', results2)\n",
    "print ('results tally:\\n', results2.value_counts().sort_index())\n"
   ]
  },
  {
   "cell_type": "code",
   "execution_count": 4,
   "id": "aa24e0d8-31e8-4a4d-995d-7a21f6224f57",
   "metadata": {},
   "outputs": [],
   "source": [
    "# Scenario 1: A 2-headed Coin\n",
    "\n",
    "# Task 3. Play another game (using a new Game object) of 1000 flips, \n",
    "# this time using two unfair dice and one fair die. \n",
    "# For the second unfair die, you can use the same die object twice in the list\n",
    "# of dice you pass to the Game object.\n",
    "\n",
    "\n"
   ]
  },
  {
   "cell_type": "code",
   "execution_count": null,
   "id": "694effac-34dc-4886-8569-8dbd8e11bcc9",
   "metadata": {},
   "outputs": [],
   "source": [
    "# Scenario 1: A 2-headed Coin\n",
    "\n",
    "# Task 4. For each game, use an Analyzer object to determine \n",
    "# the raw frequency of jackpots — i.e. getting either all Hs or all Ts.\n",
    "\n",
    "\n"
   ]
  },
  {
   "cell_type": "code",
   "execution_count": null,
   "id": "3698ab8e-50ef-4c67-ae03-f911729e5338",
   "metadata": {},
   "outputs": [],
   "source": [
    "# Scenario 1: A 2-headed Coin\n",
    "\n",
    "# Task 5. For each analyzer, compute relative frequency \n",
    "# as the number of jackpots over the total number of rolls.\n",
    "\n",
    "\n"
   ]
  },
  {
   "cell_type": "code",
   "execution_count": null,
   "id": "3b2ebcbd-73f2-48f6-b963-73dc567be194",
   "metadata": {},
   "outputs": [],
   "source": [
    "# Scenario 1: A 2-headed Coin\n",
    "\n",
    "# Task 6. Show your results, comparing the two relative frequencies,\n",
    "# in a simple bar chart.\n",
    "\n",
    "\n"
   ]
  },
  {
   "cell_type": "code",
   "execution_count": null,
   "id": "c7edfbdb-153b-489b-b4c0-fee6fd5911c9",
   "metadata": {},
   "outputs": [],
   "source": [
    "# Scenario 2: A 6-sided Die\n",
    "\n",
    "# Task 1. Create three dice, each with six sides \n",
    "# having the faces 1 through 6.\n",
    "\n"
   ]
  },
  {
   "cell_type": "code",
   "execution_count": null,
   "id": "0f6525a0-f089-4329-8f99-0331ca9322b0",
   "metadata": {},
   "outputs": [],
   "source": [
    "# Scenario 2: A 6-sided Die\n",
    " \n",
    "# Task 2. Convert one of the dice to an unfair one by \n",
    "# weighting the face 6 five times more than the other weights \n",
    "# (i.e. it has weight of 5 and the others a weight of 1 each).\n",
    "\n"
   ]
  },
  {
   "cell_type": "code",
   "execution_count": null,
   "id": "a6822f58-171e-4659-9a55-951f0d8f361c",
   "metadata": {},
   "outputs": [],
   "source": [
    "# Scenario 2: A 6-sided Die\n",
    "\n",
    "# Task 3. Convert another of the dice to be unfair by \n",
    "# weighting the face 1 five times more than the others.\n",
    "\n"
   ]
  },
  {
   "cell_type": "code",
   "execution_count": null,
   "id": "1d4d8957-c702-45e1-91d5-cdbd49903613",
   "metadata": {},
   "outputs": [],
   "source": [
    "# Scenario 2: A 6-sided Die\n",
    "\n",
    "# Task 4. Play a game of 10000 rolls with 5 fair dice.\n",
    "\n"
   ]
  },
  {
   "cell_type": "code",
   "execution_count": null,
   "id": "d15faeb8-5943-4605-bf48-0d4b48a48f53",
   "metadata": {},
   "outputs": [],
   "source": [
    "# Scenario 2: A 6-sided Die\n",
    "\n",
    "# Task 5. Play another game of 10000 rolls, this time with 2 unfair dice,\n",
    "# one as defined in steps #2 and #3 respectively, and 3 fair dice.\n",
    "    \n"
   ]
  },
  {
   "cell_type": "code",
   "execution_count": null,
   "id": "8471ee75-0301-4847-859d-337791e284a7",
   "metadata": {},
   "outputs": [],
   "source": [
    "# Scenario 2: A 6-sided Die\n",
    "\n",
    "# Task 5. Play another game of 10000 rolls, this time with 2 unfair dice,\n",
    "# one as defined in steps #2 and #3 respectively, and 3 fair dice.\n",
    "    \n"
   ]
  },
  {
   "cell_type": "code",
   "execution_count": null,
   "id": "273fc88a-4ad6-488b-9480-7c05326ece84",
   "metadata": {},
   "outputs": [],
   "source": [
    "# Scenario 2: A 6-sided Die\n",
    "\n",
    "# Task 6. For each game, use an Analyzer object to \n",
    "# determine the relative frequency of jackpots and \n",
    "# show your results, comparing the two relative frequencies,\n",
    "# in a simple bar chart.\n"
   ]
  },
  {
   "cell_type": "code",
   "execution_count": null,
   "id": "da18f886-65e5-4012-981e-f608b84ec28a",
   "metadata": {},
   "outputs": [],
   "source": [
    "# Scenario 3: Letters of the Alphabet (7)\n",
    "\n",
    "# Task 1. Create a \"die\" of letters from A to Z with\n",
    "# weights based on their frequency of usage \n",
    "# as found in the data file english_letters.txt. \n",
    "# Use the frequencies (i.e. raw counts) as weights.\n",
    "\n"
   ]
  },
  {
   "cell_type": "code",
   "execution_count": null,
   "id": "8546240e-0721-4ca4-a9dc-4b3e7b52c82c",
   "metadata": {},
   "outputs": [],
   "source": [
    "# Scenario 3: Letters of the Alphabet (7)\n",
    " \n",
    "# Task 2. Play a game involving 4 of these dice with 1000 rolls.\n",
    "\n"
   ]
  },
  {
   "cell_type": "code",
   "execution_count": null,
   "id": "db010cef-778a-4ca0-b1e3-b350d403a883",
   "metadata": {},
   "outputs": [],
   "source": [
    "# Scenario 3: Letters of the Alphabet (7)\n",
    "\n",
    "# Task 3. Determine how many permutations in your results\n",
    "# are actual English words, based on the vocabulary found\n",
    "# in scrabble_words.txt.\n",
    "\n"
   ]
  },
  {
   "cell_type": "code",
   "execution_count": null,
   "id": "022b3177-16bf-4193-ae26-d1df84f08a7e",
   "metadata": {},
   "outputs": [],
   "source": [
    "# Scenario 3: Letters of the Alphabet (7)\n",
    " \n",
    "# Task 4. Repeat steps #2 and #3, this time with 5 dice. \n",
    "# How many actual words does this produce? \n",
    "# Which produces more?\n"
   ]
  }
 ],
 "metadata": {
  "kernelspec": {
   "display_name": "Python 3 (ipykernel)",
   "language": "python",
   "name": "python3"
  },
  "language_info": {
   "codemirror_mode": {
    "name": "ipython",
    "version": 3
   },
   "file_extension": ".py",
   "mimetype": "text/x-python",
   "name": "python",
   "nbconvert_exporter": "python",
   "pygments_lexer": "ipython3",
   "version": "3.11.4"
  }
 },
 "nbformat": 4,
 "nbformat_minor": 5
}
