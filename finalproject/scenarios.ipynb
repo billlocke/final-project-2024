{
 "cells": [
  {
   "cell_type": "code",
   "execution_count": 1,
   "id": "a0e39db4-405c-444c-987b-146093ca252e",
   "metadata": {},
   "outputs": [
    {
     "name": "stdout",
     "output_type": "stream",
     "text": [
      "Welcome to DS5100 Final Project package\n",
      "initialized:\n",
      "weight changed:\n",
      "die created:\n",
      "this is the created die:\n",
      "    side  weights\n",
      "0     1      0.1\n",
      "1     2      0.1\n",
      "2     3      0.1\n",
      "3     4      0.5\n",
      "4     5      0.1\n",
      "5     6      0.1\n",
      "show die state with method call:\n",
      "show die state2:\n",
      "    side  weights\n",
      "0     1      0.1\n",
      "1     2      0.1\n",
      "2     3      0.1\n",
      "3     4      0.5\n",
      "4     5      0.1\n",
      "5     6      0.1\n",
      "rolled die:\n",
      "results:    0\n",
      "0  4\n",
      "1  2\n",
      "2  2\n",
      "3  1\n",
      "4  4\n",
      "5  3\n",
      "6  4\n",
      "7  4\n",
      "8  4\n",
      "9  5\n"
     ]
    },
    {
     "data": {
      "image/png": "[encoded data removed]",
      "text/plain": [
       "<Figure size 640x480 with 1 Axes>"
      ]
     },
     "metadata": {},
     "output_type": "display_data"
    }
   ],
   "source": [
    "import numpy as np\n",
    "import pandas as pd\n",
    "import unittest\n",
    "import finalproject\n",
    "from die import Die\n",
    "#from game import Game"
   ]
  },
  {
   "cell_type": "code",
   "execution_count": 2,
   "id": "f83865db-18ec-4b54-8251-2978493cb614",
   "metadata": {},
   "outputs": [
    {
     "name": "stdout",
     "output_type": "stream",
     "text": [
      "initialized:\n",
      "weight changed:\n",
      "this is the created die1:    side   weights\n",
      "0     1  0.833333\n",
      "1     2  0.166667\n",
      "initialized:\n",
      "this is the created die2:    side   weights\n",
      "0     1  0.833333\n",
      "1     2  0.166667\n"
     ]
    }
   ],
   "source": [
    "# Scenario 1: A 2-headed Coin\n",
    "\n",
    "# Task 1. Create a fair coin (with faces H and T) \n",
    "# and one unfair coin in which one of the faces has a weight of 5\n",
    "# and the others 1\n",
    "\n",
    "faces1 = np.arange (2)  # creates array\n",
    "faces_df1 = Die(faces1)\n",
    "print ('initialized:')\n",
    "faces_df1.change_weight (1, 5)\n",
    "print ('weight changed:')\n",
    "die1 = faces_df1.create_die (faces_df1)\n",
    "print ('this is the created die1:', die1)\n",
    "\n",
    "faces2 = np.arange (2)  # creates array\n",
    "faces_df2 = Die(faces2)\n",
    "print ('initialized:')\n",
    "faces_df2.change_weight (1, 1)\n",
    "die2 = faces_df1.create_die (faces_df2)\n",
    "print ('this is the created die2:', die2)\n"
   ]
  },
  {
   "cell_type": "code",
   "execution_count": 12,
   "id": "392d0802-1de6-42c0-961f-a1c9bae42d03",
   "metadata": {},
   "outputs": [],
   "source": [
    "# Scenario 1: A 2-headed Coin\n",
    "\n",
    "# Task 2. Play a game of 1000 flips with two fair dice.\n",
    "\n",
    "\n"
   ]
  },
  {
   "cell_type": "code",
   "execution_count": null,
   "id": "aa24e0d8-31e8-4a4d-995d-7a21f6224f57",
   "metadata": {},
   "outputs": [],
   "source": [
    "# Scenario 1: A 2-headed Coin\n",
    "\n",
    "# Task 3. Play another game (using a new Game object) of 1000 flips, \n",
    "# this time using two unfair dice and one fair die. \n",
    "# For the second unfair die, you can use the same die object twice in the list\n",
    "# of dice you pass to the Game object.\n",
    "\n",
    "\n"
   ]
  },
  {
   "cell_type": "code",
   "execution_count": null,
   "id": "694effac-34dc-4886-8569-8dbd8e11bcc9",
   "metadata": {},
   "outputs": [],
   "source": [
    "# Scenario 1: A 2-headed Coin\n",
    "\n",
    "# Task 4. For each game, use an Analyzer object to determine \n",
    "# the raw frequency of jackpots — i.e. getting either all Hs or all Ts.\n",
    "\n",
    "\n"
   ]
  },
  {
   "cell_type": "code",
   "execution_count": null,
   "id": "3698ab8e-50ef-4c67-ae03-f911729e5338",
   "metadata": {},
   "outputs": [],
   "source": [
    "# Scenario 1: A 2-headed Coin\n",
    "\n",
    "# Task 5. For each analyzer, compute relative frequency \n",
    "# as the number of jackpots over the total number of rolls.\n",
    "\n",
    "\n"
   ]
  },
  {
   "cell_type": "code",
   "execution_count": null,
   "id": "3b2ebcbd-73f2-48f6-b963-73dc567be194",
   "metadata": {},
   "outputs": [],
   "source": [
    "# Scenario 1: A 2-headed Coin\n",
    "\n",
    "# Task 6. Show your results, comparing the two relative frequencies,\n",
    "# in a simple bar chart.\n",
    "\n",
    "\n"
   ]
  },
  {
   "cell_type": "code",
   "execution_count": null,
   "id": "c7edfbdb-153b-489b-b4c0-fee6fd5911c9",
   "metadata": {},
   "outputs": [],
   "source": [
    "# Scenario 2: A 6-sided Die\n",
    "\n",
    "# Task 1. Create three dice, each with six sides \n",
    "# having the faces 1 through 6.\n",
    "\n"
   ]
  },
  {
   "cell_type": "code",
   "execution_count": null,
   "id": "0f6525a0-f089-4329-8f99-0331ca9322b0",
   "metadata": {},
   "outputs": [],
   "source": [
    "# Scenario 2: A 6-sided Die\n",
    " \n",
    "# Task 2. Convert one of the dice to an unfair one by \n",
    "# weighting the face 6 five times more than the other weights \n",
    "# (i.e. it has weight of 5 and the others a weight of 1 each).\n",
    "\n"
   ]
  },
  {
   "cell_type": "code",
   "execution_count": null,
   "id": "a6822f58-171e-4659-9a55-951f0d8f361c",
   "metadata": {},
   "outputs": [],
   "source": [
    "# Scenario 2: A 6-sided Die\n",
    "\n",
    "# Task 3. Convert another of the dice to be unfair by \n",
    "# weighting the face 1 five times more than the others.\n",
    "\n"
   ]
  },
  {
   "cell_type": "code",
   "execution_count": null,
   "id": "1d4d8957-c702-45e1-91d5-cdbd49903613",
   "metadata": {},
   "outputs": [],
   "source": [
    "# Scenario 2: A 6-sided Die\n",
    "\n",
    "# Task 4. Play a game of 10000 rolls with 5 fair dice.\n",
    "\n"
   ]
  },
  {
   "cell_type": "code",
   "execution_count": null,
   "id": "d15faeb8-5943-4605-bf48-0d4b48a48f53",
   "metadata": {},
   "outputs": [],
   "source": [
    "# Scenario 2: A 6-sided Die\n",
    "\n",
    "# Task 5. Play another game of 10000 rolls, this time with 2 unfair dice,\n",
    "# one as defined in steps #2 and #3 respectively, and 3 fair dice.\n",
    "    \n"
   ]
  },
  {
   "cell_type": "code",
   "execution_count": null,
   "id": "8471ee75-0301-4847-859d-337791e284a7",
   "metadata": {},
   "outputs": [],
   "source": [
    "# Scenario 2: A 6-sided Die\n",
    "\n",
    "# Task 5. Play another game of 10000 rolls, this time with 2 unfair dice,\n",
    "# one as defined in steps #2 and #3 respectively, and 3 fair dice.\n",
    "    \n"
   ]
  },
  {
   "cell_type": "code",
   "execution_count": null,
   "id": "273fc88a-4ad6-488b-9480-7c05326ece84",
   "metadata": {},
   "outputs": [],
   "source": [
    "# Scenario 2: A 6-sided Die\n",
    "\n",
    "# Task 6. For each game, use an Analyzer object to \n",
    "# determine the relative frequency of jackpots and \n",
    "# show your results, comparing the two relative frequencies,\n",
    "# in a simple bar chart.\n"
   ]
  },
  {
   "cell_type": "code",
   "execution_count": null,
   "id": "da18f886-65e5-4012-981e-f608b84ec28a",
   "metadata": {},
   "outputs": [],
   "source": [
    "# Scenario 3: Letters of the Alphabet (7)\n",
    "\n",
    "# Task 1. Create a \"die\" of letters from A to Z with\n",
    "# weights based on their frequency of usage \n",
    "# as found in the data file english_letters.txt. \n",
    "# Use the frequencies (i.e. raw counts) as weights.\n",
    "\n"
   ]
  },
  {
   "cell_type": "code",
   "execution_count": null,
   "id": "8546240e-0721-4ca4-a9dc-4b3e7b52c82c",
   "metadata": {},
   "outputs": [],
   "source": [
    "# Scenario 3: Letters of the Alphabet (7)\n",
    " \n",
    "# Task 2. Play a game involving 4 of these dice with 1000 rolls.\n",
    "\n"
   ]
  },
  {
   "cell_type": "code",
   "execution_count": null,
   "id": "db010cef-778a-4ca0-b1e3-b350d403a883",
   "metadata": {},
   "outputs": [],
   "source": [
    "# Scenario 3: Letters of the Alphabet (7)\n",
    "\n",
    "# Task 3. Determine how many permutations in your results\n",
    "# are actual English words, based on the vocabulary found\n",
    "# in scrabble_words.txt.\n",
    "\n"
   ]
  },
  {
   "cell_type": "code",
   "execution_count": null,
   "id": "022b3177-16bf-4193-ae26-d1df84f08a7e",
   "metadata": {},
   "outputs": [],
   "source": [
    "# Scenario 3: Letters of the Alphabet (7)\n",
    " \n",
    "# Task 4. Repeat steps #2 and #3, this time with 5 dice. \n",
    "# How many actual words does this produce? \n",
    "# Which produces more?\n"
   ]
  }
 ],
 "metadata": {
  "kernelspec": {
   "display_name": "Python 3 (ipykernel)",
   "language": "python",
   "name": "python3"
  },
  "language_info": {
   "codemirror_mode": {
    "name": "ipython",
    "version": 3
   },
   "file_extension": ".py",
   "mimetype": "text/x-python",
   "name": "python",
   "nbconvert_exporter": "python",
   "pygments_lexer": "ipython3",
   "version": "3.11.4"
  }
 },
 "nbformat": 4,
 "nbformat_minor": 5
}
